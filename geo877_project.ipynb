{
 "cells": [
  {
   "cell_type": "markdown",
   "metadata": {},
   "source": [
    "# GEO877 Project"
   ]
  },
  {
   "cell_type": "markdown",
   "metadata": {},
   "source": [
    "## Data Loading"
   ]
  },
  {
   "cell_type": "code",
   "execution_count": 9,
   "metadata": {},
   "outputs": [],
   "source": [
    "import geopandas as gpd\n",
    "\n",
    "# Set data paths\n",
    "data_path_zh_st = \"Z:/geo877/student/haklay/data/geojson/zurich/swisstopo/\"\n",
    "data_path_gr_st = \"Z:/geo877/student/haklay/data/geojson/graubunden/swisstopo/\"\n",
    "\n",
    "data_path_zh_osm = \"Z:/geo877/student/haklay/data/geojson/zurich/osm/\"\n",
    "data_path_gr_osm = \"Z:/geo877/student/haklay/data/geojson/graubunden/osm/\"\n",
    "\n",
    "# Load Swiss Topo geojsons for Zurich\n",
    "motorway_zh_swisstopo = gpd.read_file(data_path_zh_st + \"motorway_zh_swisstopo.geojson\")\n",
    "mainroads_zh_swisstopo = gpd.read_file(data_path_zh_st + \"mainroads_zh_swisstopo.geojson\")\n",
    "smallpaths_zh_swisstopo = gpd.read_file(data_path_zh_st + \"smallpaths_zh_swisstopo.geojson\")\n",
    "\n",
    "# Load Swiss Topo geojsons for Graubunden\n",
    "motorway_gr_swisstopo = gpd.read_file(data_path_gr_st + \"motorway_gr_swisstopo.geojson\")\n",
    "mainroads_gr_swisstopo = gpd.read_file(data_path_gr_st + \"mainroads_gr_swisstopo.geojson\")\n",
    "smallpaths_gr_swisstopo = gpd.read_file(data_path_gr_st + \"smallpaths_gr_swisstopo.geojson\")\n",
    "\n",
    "# Load OSM geojsons for Zurich\n",
    "motorway_zh_osm = gpd.read_file(data_path_zh_osm + \"motorway_zh_osm.geojson\")\n",
    "mainroads_without_zh_osm = gpd.read_file(data_path_zh_osm + \"mainroads_without_zh_osm.geojson\")\n",
    "mainroads_with_zh_osm = gpd.read_file(data_path_zh_osm + \"mainroads_with_zh_osm.geojson\")\n",
    "smallpaths_without_zh_osm = gpd.read_file(data_path_zh_osm + \"smallpaths_without_zh_osm.geojson\")\n",
    "smallpaths_with_zh_osm = gpd.read_file(data_path_zh_osm + \"smallpaths_with_zh_osm.geojson\")\n",
    "\n",
    "# Load OSM geojsons for Graubunden\n",
    "motorway_gr_osm = gpd.read_file(data_path_gr_osm + \"motorway_gr_osm.geojson\")\n",
    "mainroads_without_gr_osm = gpd.read_file(data_path_gr_osm + \"mainroads_without_gr_osm.geojson\")\n",
    "mainroads_with_gr_osm = gpd.read_file(data_path_gr_osm + \"mainroads_with_gr_osm.geojson\")\n",
    "smallpaths_without_gr_osm = gpd.read_file(data_path_gr_osm + \"smallpaths_without_gr_osm.geojson\")\n",
    "smallpaths_with_gr_osm = gpd.read_file(data_path_gr_osm + \"smallpaths_with_gr_osm.geojson\")\n",
    "\n"
   ]
  }
 ],
 "metadata": {
  "kernelspec": {
   "display_name": "Python 3 (ipykernel)",
   "language": "python",
   "name": "python3"
  },
  "language_info": {
   "codemirror_mode": {
    "name": "ipython",
    "version": 3
   },
   "file_extension": ".py",
   "mimetype": "text/x-python",
   "name": "python",
   "nbconvert_exporter": "python",
   "pygments_lexer": "ipython3",
   "version": "3.11.5"
  }
 },
 "nbformat": 4,
 "nbformat_minor": 2
}
